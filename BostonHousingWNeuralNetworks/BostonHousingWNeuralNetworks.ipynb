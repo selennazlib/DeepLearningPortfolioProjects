{
  "nbformat": 4,
  "nbformat_minor": 0,
  "metadata": {
    "colab": {
      "provenance": []
    },
    "kernelspec": {
      "name": "python3",
      "display_name": "Python 3"
    },
    "language_info": {
      "name": "python"
    }
  },
  "cells": [
    {
      "cell_type": "markdown",
      "source": [
        "I used similar dataset to predict the house prices but I trained my model with linear regression algorithm which is a machine learning algorithm. To see how to implement neural network on ml based problems and practice to methods that I've learned, I chose this project."
      ],
      "metadata": {
        "id": "hfqI7YDcEy9_"
      }
    },
    {
      "cell_type": "code",
      "execution_count": 1,
      "metadata": {
        "id": "SowCGWl-EbDg"
      },
      "outputs": [],
      "source": [
        "# import libraries\n",
        "import numpy as np\n",
        "import matplotlib.pyplot as plt\n",
        "import tensorflow as tf\n",
        "from tensorflow import keras\n",
        "from keras.datasets import boston_housing"
      ]
    },
    {
      "cell_type": "code",
      "source": [
        "# get the data\n",
        "boston = boston_housing.load_data()\n",
        "boston"
      ],
      "metadata": {
        "colab": {
          "base_uri": "https://localhost:8080/"
        },
        "id": "C3id42GzFmMw",
        "outputId": "f86637b8-d80f-4e81-bbff-43796c7487c1"
      },
      "execution_count": 2,
      "outputs": [
        {
          "output_type": "stream",
          "name": "stdout",
          "text": [
            "Downloading data from https://storage.googleapis.com/tensorflow/tf-keras-datasets/boston_housing.npz\n",
            "57344/57026 [==============================] - 0s 0us/step\n",
            "65536/57026 [==================================] - 0s 0us/step\n"
          ]
        },
        {
          "output_type": "execute_result",
          "data": {
            "text/plain": [
              "((array([[1.23247e+00, 0.00000e+00, 8.14000e+00, ..., 2.10000e+01,\n",
              "          3.96900e+02, 1.87200e+01],\n",
              "         [2.17700e-02, 8.25000e+01, 2.03000e+00, ..., 1.47000e+01,\n",
              "          3.95380e+02, 3.11000e+00],\n",
              "         [4.89822e+00, 0.00000e+00, 1.81000e+01, ..., 2.02000e+01,\n",
              "          3.75520e+02, 3.26000e+00],\n",
              "         ...,\n",
              "         [3.46600e-02, 3.50000e+01, 6.06000e+00, ..., 1.69000e+01,\n",
              "          3.62250e+02, 7.83000e+00],\n",
              "         [2.14918e+00, 0.00000e+00, 1.95800e+01, ..., 1.47000e+01,\n",
              "          2.61950e+02, 1.57900e+01],\n",
              "         [1.43900e-02, 6.00000e+01, 2.93000e+00, ..., 1.56000e+01,\n",
              "          3.76700e+02, 4.38000e+00]]),\n",
              "  array([15.2, 42.3, 50. , 21.1, 17.7, 18.5, 11.3, 15.6, 15.6, 14.4, 12.1,\n",
              "         17.9, 23.1, 19.9, 15.7,  8.8, 50. , 22.5, 24.1, 27.5, 10.9, 30.8,\n",
              "         32.9, 24. , 18.5, 13.3, 22.9, 34.7, 16.6, 17.5, 22.3, 16.1, 14.9,\n",
              "         23.1, 34.9, 25. , 13.9, 13.1, 20.4, 20. , 15.2, 24.7, 22.2, 16.7,\n",
              "         12.7, 15.6, 18.4, 21. , 30.1, 15.1, 18.7,  9.6, 31.5, 24.8, 19.1,\n",
              "         22. , 14.5, 11. , 32. , 29.4, 20.3, 24.4, 14.6, 19.5, 14.1, 14.3,\n",
              "         15.6, 10.5,  6.3, 19.3, 19.3, 13.4, 36.4, 17.8, 13.5, 16.5,  8.3,\n",
              "         14.3, 16. , 13.4, 28.6, 43.5, 20.2, 22. , 23. , 20.7, 12.5, 48.5,\n",
              "         14.6, 13.4, 23.7, 50. , 21.7, 39.8, 38.7, 22.2, 34.9, 22.5, 31.1,\n",
              "         28.7, 46. , 41.7, 21. , 26.6, 15. , 24.4, 13.3, 21.2, 11.7, 21.7,\n",
              "         19.4, 50. , 22.8, 19.7, 24.7, 36.2, 14.2, 18.9, 18.3, 20.6, 24.6,\n",
              "         18.2,  8.7, 44. , 10.4, 13.2, 21.2, 37. , 30.7, 22.9, 20. , 19.3,\n",
              "         31.7, 32. , 23.1, 18.8, 10.9, 50. , 19.6,  5. , 14.4, 19.8, 13.8,\n",
              "         19.6, 23.9, 24.5, 25. , 19.9, 17.2, 24.6, 13.5, 26.6, 21.4, 11.9,\n",
              "         22.6, 19.6,  8.5, 23.7, 23.1, 22.4, 20.5, 23.6, 18.4, 35.2, 23.1,\n",
              "         27.9, 20.6, 23.7, 28. , 13.6, 27.1, 23.6, 20.6, 18.2, 21.7, 17.1,\n",
              "          8.4, 25.3, 13.8, 22.2, 18.4, 20.7, 31.6, 30.5, 20.3,  8.8, 19.2,\n",
              "         19.4, 23.1, 23. , 14.8, 48.8, 22.6, 33.4, 21.1, 13.6, 32.2, 13.1,\n",
              "         23.4, 18.9, 23.9, 11.8, 23.3, 22.8, 19.6, 16.7, 13.4, 22.2, 20.4,\n",
              "         21.8, 26.4, 14.9, 24.1, 23.8, 12.3, 29.1, 21. , 19.5, 23.3, 23.8,\n",
              "         17.8, 11.5, 21.7, 19.9, 25. , 33.4, 28.5, 21.4, 24.3, 27.5, 33.1,\n",
              "         16.2, 23.3, 48.3, 22.9, 22.8, 13.1, 12.7, 22.6, 15. , 15.3, 10.5,\n",
              "         24. , 18.5, 21.7, 19.5, 33.2, 23.2,  5. , 19.1, 12.7, 22.3, 10.2,\n",
              "         13.9, 16.3, 17. , 20.1, 29.9, 17.2, 37.3, 45.4, 17.8, 23.2, 29. ,\n",
              "         22. , 18. , 17.4, 34.6, 20.1, 25. , 15.6, 24.8, 28.2, 21.2, 21.4,\n",
              "         23.8, 31. , 26.2, 17.4, 37.9, 17.5, 20. ,  8.3, 23.9,  8.4, 13.8,\n",
              "          7.2, 11.7, 17.1, 21.6, 50. , 16.1, 20.4, 20.6, 21.4, 20.6, 36.5,\n",
              "          8.5, 24.8, 10.8, 21.9, 17.3, 18.9, 36.2, 14.9, 18.2, 33.3, 21.8,\n",
              "         19.7, 31.6, 24.8, 19.4, 22.8,  7.5, 44.8, 16.8, 18.7, 50. , 50. ,\n",
              "         19.5, 20.1, 50. , 17.2, 20.8, 19.3, 41.3, 20.4, 20.5, 13.8, 16.5,\n",
              "         23.9, 20.6, 31.5, 23.3, 16.8, 14. , 33.8, 36.1, 12.8, 18.3, 18.7,\n",
              "         19.1, 29. , 30.1, 50. , 50. , 22. , 11.9, 37.6, 50. , 22.7, 20.8,\n",
              "         23.5, 27.9, 50. , 19.3, 23.9, 22.6, 15.2, 21.7, 19.2, 43.8, 20.3,\n",
              "         33.2, 19.9, 22.5, 32.7, 22. , 17.1, 19. , 15. , 16.1, 25.1, 23.7,\n",
              "         28.7, 37.2, 22.6, 16.4, 25. , 29.8, 22.1, 17.4, 18.1, 30.3, 17.5,\n",
              "         24.7, 12.6, 26.5, 28.7, 13.3, 10.4, 24.4, 23. , 20. , 17.8,  7. ,\n",
              "         11.8, 24.4, 13.8, 19.4, 25.2, 19.4, 19.4, 29.1])),\n",
              " (array([[1.80846e+01, 0.00000e+00, 1.81000e+01, ..., 2.02000e+01,\n",
              "          2.72500e+01, 2.90500e+01],\n",
              "         [1.23290e-01, 0.00000e+00, 1.00100e+01, ..., 1.78000e+01,\n",
              "          3.94950e+02, 1.62100e+01],\n",
              "         [5.49700e-02, 0.00000e+00, 5.19000e+00, ..., 2.02000e+01,\n",
              "          3.96900e+02, 9.74000e+00],\n",
              "         ...,\n",
              "         [1.83377e+00, 0.00000e+00, 1.95800e+01, ..., 1.47000e+01,\n",
              "          3.89610e+02, 1.92000e+00],\n",
              "         [3.58090e-01, 0.00000e+00, 6.20000e+00, ..., 1.74000e+01,\n",
              "          3.91700e+02, 9.71000e+00],\n",
              "         [2.92400e+00, 0.00000e+00, 1.95800e+01, ..., 1.47000e+01,\n",
              "          2.40160e+02, 9.81000e+00]]),\n",
              "  array([ 7.2, 18.8, 19. , 27. , 22.2, 24.5, 31.2, 22.9, 20.5, 23.2, 18.6,\n",
              "         14.5, 17.8, 50. , 20.8, 24.3, 24.2, 19.8, 19.1, 22.7, 12. , 10.2,\n",
              "         20. , 18.5, 20.9, 23. , 27.5, 30.1,  9.5, 22. , 21.2, 14.1, 33.1,\n",
              "         23.4, 20.1,  7.4, 15.4, 23.8, 20.1, 24.5, 33. , 28.4, 14.1, 46.7,\n",
              "         32.5, 29.6, 28.4, 19.8, 20.2, 25. , 35.4, 20.3,  9.7, 14.5, 34.9,\n",
              "         26.6,  7.2, 50. , 32.4, 21.6, 29.8, 13.1, 27.5, 21.2, 23.1, 21.9,\n",
              "         13. , 23.2,  8.1,  5.6, 21.7, 29.6, 19.6,  7. , 26.4, 18.9, 20.9,\n",
              "         28.1, 35.4, 10.2, 24.3, 43.1, 17.6, 15.4, 16.2, 27.1, 21.4, 21.5,\n",
              "         22.4, 25. , 16.6, 18.6, 22. , 42.8, 35.1, 21.5, 36. , 21.9, 24.1,\n",
              "         50. , 26.7, 25. ])))"
            ]
          },
          "metadata": {},
          "execution_count": 2
        }
      ]
    },
    {
      "cell_type": "code",
      "source": [
        "(X_train, y_train), (X_test, y_test) = boston"
      ],
      "metadata": {
        "id": "zdAybBReFxdF"
      },
      "execution_count": 3,
      "outputs": []
    },
    {
      "cell_type": "code",
      "source": [
        "X_train.shape # 404 training data"
      ],
      "metadata": {
        "colab": {
          "base_uri": "https://localhost:8080/"
        },
        "id": "aL0Cqa6rGUKs",
        "outputId": "3f0f38c8-07c2-47b4-a988-4fb8c7729a16"
      },
      "execution_count": 4,
      "outputs": [
        {
          "output_type": "execute_result",
          "data": {
            "text/plain": [
              "(404, 13)"
            ]
          },
          "metadata": {},
          "execution_count": 4
        }
      ]
    },
    {
      "cell_type": "code",
      "source": [
        "X_test.shape # 102 test data"
      ],
      "metadata": {
        "colab": {
          "base_uri": "https://localhost:8080/"
        },
        "id": "FWB5bx12GWMC",
        "outputId": "caf8dd22-0b6c-4831-abae-ca2bd90a236a"
      },
      "execution_count": 15,
      "outputs": [
        {
          "output_type": "execute_result",
          "data": {
            "text/plain": [
              "(102, 13)"
            ]
          },
          "metadata": {},
          "execution_count": 15
        }
      ]
    },
    {
      "cell_type": "code",
      "source": [
        "y_train.shape"
      ],
      "metadata": {
        "colab": {
          "base_uri": "https://localhost:8080/"
        },
        "id": "0JhSwADvGX8s",
        "outputId": "e6f1de43-3e91-485d-b7f4-9261402e4cb1"
      },
      "execution_count": 13,
      "outputs": [
        {
          "output_type": "execute_result",
          "data": {
            "text/plain": [
              "(404,)"
            ]
          },
          "metadata": {},
          "execution_count": 13
        }
      ]
    },
    {
      "cell_type": "code",
      "source": [
        "y_test.shape"
      ],
      "metadata": {
        "colab": {
          "base_uri": "https://localhost:8080/"
        },
        "id": "xZm0vFv6GiAG",
        "outputId": "7a17a2ae-cd47-4fe9-c650-5c1a05c526a6"
      },
      "execution_count": 7,
      "outputs": [
        {
          "output_type": "execute_result",
          "data": {
            "text/plain": [
              "(102,)"
            ]
          },
          "metadata": {},
          "execution_count": 7
        }
      ]
    },
    {
      "cell_type": "code",
      "source": [
        "X_train"
      ],
      "metadata": {
        "colab": {
          "base_uri": "https://localhost:8080/"
        },
        "id": "bftEAfDZGjUS",
        "outputId": "0759c142-b61d-4efb-e7cb-c365a3dab3d8"
      },
      "execution_count": 9,
      "outputs": [
        {
          "output_type": "execute_result",
          "data": {
            "text/plain": [
              "array([[1.23247e+00, 0.00000e+00, 8.14000e+00, ..., 2.10000e+01,\n",
              "        3.96900e+02, 1.87200e+01],\n",
              "       [2.17700e-02, 8.25000e+01, 2.03000e+00, ..., 1.47000e+01,\n",
              "        3.95380e+02, 3.11000e+00],\n",
              "       [4.89822e+00, 0.00000e+00, 1.81000e+01, ..., 2.02000e+01,\n",
              "        3.75520e+02, 3.26000e+00],\n",
              "       ...,\n",
              "       [3.46600e-02, 3.50000e+01, 6.06000e+00, ..., 1.69000e+01,\n",
              "        3.62250e+02, 7.83000e+00],\n",
              "       [2.14918e+00, 0.00000e+00, 1.95800e+01, ..., 1.47000e+01,\n",
              "        2.61950e+02, 1.57900e+01],\n",
              "       [1.43900e-02, 6.00000e+01, 2.93000e+00, ..., 1.56000e+01,\n",
              "        3.76700e+02, 4.38000e+00]])"
            ]
          },
          "metadata": {},
          "execution_count": 9
        }
      ]
    },
    {
      "cell_type": "code",
      "source": [
        "# there is inconsistency between the scales of the features so let's standardize them\n",
        "from sklearn.preprocessing import StandardScaler\n",
        "\n",
        "scl = StandardScaler()\n",
        "X_train = scl.fit_transform(X_train)\n",
        "X_test = scl.fit_transform(X_test)"
      ],
      "metadata": {
        "id": "XoW5gu-nGoEb"
      },
      "execution_count": 11,
      "outputs": []
    },
    {
      "cell_type": "code",
      "source": [
        "# generate the network\n",
        "\n",
        "network = keras.models.Sequential()\n",
        "network.add(keras.layers.Dense(32, activation='relu', input_shape=(13, )))\n",
        "network.add(keras.layers.Dense(32, activation='relu'))\n",
        "network.add(keras.layers.Dense(1)) # no need for activation function here because we want to get a scaler predict"
      ],
      "metadata": {
        "id": "cMsdZ1M6HSzg"
      },
      "execution_count": 41,
      "outputs": []
    },
    {
      "cell_type": "code",
      "source": [
        "# compile the network\n",
        "network.compile(\n",
        "    optimizer='rmsprop',\n",
        "    loss='mse',\n",
        "    metrics=['mae']\n",
        ")"
      ],
      "metadata": {
        "id": "gvX3I9HfIZOq"
      },
      "execution_count": 47,
      "outputs": []
    },
    {
      "cell_type": "code",
      "source": [
        "# fit the network (training phase) and to find the optimal epoch let's make a difference and try to use earlystopping \n",
        "early_stop = tf.keras.callbacks.EarlyStopping(monitor='loss', patience=5)\n",
        "network.fit(X_train, y_train,validation_data=[X_test, y_test], epochs=150, batch_size=128, callbacks=early_stop)"
      ],
      "metadata": {
        "colab": {
          "base_uri": "https://localhost:8080/"
        },
        "id": "7qTam5JbKxOY",
        "outputId": "49ad7e77-163b-4a70-f312-7643a27101d5"
      },
      "execution_count": 60,
      "outputs": [
        {
          "output_type": "stream",
          "name": "stdout",
          "text": [
            "Epoch 1/150\n",
            "4/4 [==============================] - 0s 23ms/step - loss: 2.5527 - mae: 1.1652 - val_loss: 14.4473 - val_mae: 2.7994\n",
            "Epoch 2/150\n",
            "4/4 [==============================] - 0s 12ms/step - loss: 2.4953 - mae: 1.1524 - val_loss: 14.1881 - val_mae: 2.7143\n",
            "Epoch 3/150\n",
            "4/4 [==============================] - 0s 11ms/step - loss: 2.5874 - mae: 1.1842 - val_loss: 14.2258 - val_mae: 2.7520\n",
            "Epoch 4/150\n",
            "4/4 [==============================] - 0s 11ms/step - loss: 2.5298 - mae: 1.1564 - val_loss: 14.5404 - val_mae: 2.7423\n",
            "Epoch 5/150\n",
            "4/4 [==============================] - 0s 11ms/step - loss: 2.5522 - mae: 1.1762 - val_loss: 14.1598 - val_mae: 2.7272\n",
            "Epoch 6/150\n",
            "4/4 [==============================] - 0s 11ms/step - loss: 2.5546 - mae: 1.1715 - val_loss: 14.1074 - val_mae: 2.6962\n",
            "Epoch 7/150\n",
            "4/4 [==============================] - 0s 10ms/step - loss: 2.5413 - mae: 1.1649 - val_loss: 14.4616 - val_mae: 2.7694\n"
          ]
        },
        {
          "output_type": "execute_result",
          "data": {
            "text/plain": [
              "<keras.callbacks.History at 0x7f3d45e69ad0>"
            ]
          },
          "metadata": {},
          "execution_count": 60
        }
      ]
    },
    {
      "cell_type": "code",
      "source": [
        "# visualize the mae\n",
        "plt.plot(network.history.history['val_loss'], 'r')\n",
        "plt.plot(network.history.history['loss'], 'b')\n",
        "plt.xlabel('epochs')\n",
        "plt.ylabel('loss')"
      ],
      "metadata": {
        "colab": {
          "base_uri": "https://localhost:8080/",
          "height": 296
        },
        "id": "VePvEeyqO9mS",
        "outputId": "f1529007-8278-43d7-b8c7-ffb2edcca2fc"
      },
      "execution_count": 73,
      "outputs": [
        {
          "output_type": "execute_result",
          "data": {
            "text/plain": [
              "Text(0, 0.5, 'loss')"
            ]
          },
          "metadata": {},
          "execution_count": 73
        },
        {
          "output_type": "display_data",
          "data": {
            "text/plain": [
              "<Figure size 432x288 with 1 Axes>"
            ],
            "image/png": "[encoded data removed]"
          },
          "metadata": {
            "needs_background": "light"
          }
        }
      ]
    },
    {
      "cell_type": "code",
      "source": [
        "# make predictions\n",
        "preds = network.predict(X_test)\n",
        "preds"
      ],
      "metadata": {
        "colab": {
          "base_uri": "https://localhost:8080/"
        },
        "id": "FBLYl7atQRCK",
        "outputId": "90b504fc-9576-4927-9abc-35d7b57ef52a"
      },
      "execution_count": 74,
      "outputs": [
        {
          "output_type": "execute_result",
          "data": {
            "text/plain": [
              "array([[ 5.25885  ],\n",
              "       [19.193907 ],\n",
              "       [24.02982  ],\n",
              "       [30.427513 ],\n",
              "       [25.170214 ],\n",
              "       [23.534315 ],\n",
              "       [29.699223 ],\n",
              "       [22.78054  ],\n",
              "       [20.47967  ],\n",
              "       [18.672304 ],\n",
              "       [21.85261  ],\n",
              "       [17.69724  ],\n",
              "       [17.693398 ],\n",
              "       [44.850185 ],\n",
              "       [16.109177 ],\n",
              "       [21.53201  ],\n",
              "       [28.05123  ],\n",
              "       [21.672508 ],\n",
              "       [16.70581  ],\n",
              "       [17.422417 ],\n",
              "       [10.443408 ],\n",
              "       [ 8.321286 ],\n",
              "       [22.340364 ],\n",
              "       [16.412046 ],\n",
              "       [22.548859 ],\n",
              "       [19.678457 ],\n",
              "       [28.348143 ],\n",
              "       [31.155132 ],\n",
              "       [ 8.1660185],\n",
              "       [20.819485 ],\n",
              "       [20.506886 ],\n",
              "       [10.57439  ],\n",
              "       [32.659393 ],\n",
              "       [25.838379 ],\n",
              "       [13.299114 ],\n",
              "       [ 5.1919327],\n",
              "       [18.661125 ],\n",
              "       [19.009678 ],\n",
              "       [18.882362 ],\n",
              "       [27.35276  ],\n",
              "       [32.20571  ],\n",
              "       [27.994255 ],\n",
              "       [11.433077 ],\n",
              "       [48.85252  ],\n",
              "       [30.509117 ],\n",
              "       [27.582937 ],\n",
              "       [27.604086 ],\n",
              "       [22.174847 ],\n",
              "       [18.913017 ],\n",
              "       [24.008411 ],\n",
              "       [38.4569   ],\n",
              "       [24.586618 ],\n",
              "       [ 8.800237 ],\n",
              "       [16.19566  ],\n",
              "       [35.77714  ],\n",
              "       [29.21809  ],\n",
              "       [10.975274 ],\n",
              "       [50.33633  ],\n",
              "       [32.54413  ],\n",
              "       [25.775467 ],\n",
              "       [21.975498 ],\n",
              "       [13.338392 ],\n",
              "       [12.291486 ],\n",
              "       [21.012016 ],\n",
              "       [25.48795  ],\n",
              "       [22.432327 ],\n",
              "       [11.962429 ],\n",
              "       [22.52818  ],\n",
              "       [13.397211 ],\n",
              "       [ 5.576768 ],\n",
              "       [17.512651 ],\n",
              "       [32.011852 ],\n",
              "       [26.161205 ],\n",
              "       [ 9.850859 ],\n",
              "       [26.529158 ],\n",
              "       [22.353653 ],\n",
              "       [20.284586 ],\n",
              "       [26.466846 ],\n",
              "       [40.143227 ],\n",
              "       [ 8.6874895],\n",
              "       [24.012474 ],\n",
              "       [38.30919  ],\n",
              "       [16.478668 ],\n",
              "       [10.801081 ],\n",
              "       [20.159569 ],\n",
              "       [19.988413 ],\n",
              "       [17.628246 ],\n",
              "       [19.456238 ],\n",
              "       [23.864399 ],\n",
              "       [24.51767  ],\n",
              "       [21.471031 ],\n",
              "       [20.559317 ],\n",
              "       [26.77958  ],\n",
              "       [47.1058   ],\n",
              "       [40.75719  ],\n",
              "       [21.416595 ],\n",
              "       [35.278126 ],\n",
              "       [38.691593 ],\n",
              "       [28.444874 ],\n",
              "       [47.352283 ],\n",
              "       [30.654312 ],\n",
              "       [20.052906 ]], dtype=float32)"
            ]
          },
          "metadata": {},
          "execution_count": 74
        }
      ]
    },
    {
      "cell_type": "code",
      "source": [
        "plt.scatter(y_test, preds)\n",
        "plt.plot(y_test, y_test, 'r')\n",
        "plt.xlabel('actual values - y test values')\n",
        "plt.ylabel('predicted value - predicted x test values')\n",
        "plt.show()"
      ],
      "metadata": {
        "colab": {
          "base_uri": "https://localhost:8080/",
          "height": 279
        },
        "id": "V_cxMIiTUuAE",
        "outputId": "c5c6085b-7352-496a-8d8a-fcd36bbb1f81"
      },
      "execution_count": 76,
      "outputs": [
        {
          "output_type": "display_data",
          "data": {
            "text/plain": [
              "<Figure size 432x288 with 1 Axes>"
            ],
            "image/png": "[encoded data removed]"
          },
          "metadata": {
            "needs_background": "light"
          }
        }
      ]
    },
    {
      "cell_type": "markdown",
      "source": [
        "It was kind of a capstone project for me because I tried the new methods that I've just learn but so far I enjoy a lot.During the project I changed the epochs, batch and number of the layers many times to optimize my model. Also this time I visualize the actual values and predicted values in a plot which has quite good line that means we have not a bad model(at this point I cant say that we have a succesful model it has to developed more with hypertuning methods). "
      ],
      "metadata": {
        "id": "RekII2aAVSCp"
      }
    }
  ]
}