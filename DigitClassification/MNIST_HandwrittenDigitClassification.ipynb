{
  "nbformat": 4,
  "nbformat_minor": 0,
  "metadata": {
    "colab": {
      "provenance": []
    },
    "kernelspec": {
      "name": "python3",
      "display_name": "Python 3"
    },
    "language_info": {
      "name": "python"
    }
  },
  "cells": [
    {
      "cell_type": "markdown",
      "source": [
        "This project is the first portfolio project that I used deep learning algorithms. Also this project is also known \"hello world\" for deep learning so it's a quite basic project but there are many concepts that I'm not familiar with so with practice I hope filling the gaps on my knowledge. "
      ],
      "metadata": {
        "id": "bgv6nlB-_fHj"
      }
    },
    {
      "cell_type": "code",
      "execution_count": 84,
      "metadata": {
        "id": "8UOV4v6k_aM1"
      },
      "outputs": [],
      "source": [
        "# import libraries\n",
        "import numpy as np\n",
        "import matplotlib.pyplot as plt\n",
        "\n",
        "import tensorflow as tf\n",
        "from tensorflow import keras\n",
        "from keras.datasets import mnist"
      ]
    },
    {
      "cell_type": "code",
      "source": [
        "# get the data\n",
        "(train_img, train_label), (test_img, test_label) = mnist.load_data()"
      ],
      "metadata": {
        "id": "yaxpQKeSAJV5"
      },
      "execution_count": 85,
      "outputs": []
    },
    {
      "cell_type": "code",
      "source": [
        "# analyze the shape of both train_img , test_img\n",
        "train_img.shape"
      ],
      "metadata": {
        "colab": {
          "base_uri": "https://localhost:8080/"
        },
        "id": "ZTEDlJ1FAsVs",
        "outputId": "18ced6dc-f23f-4f4c-bb78-489d36eb7d82"
      },
      "execution_count": 86,
      "outputs": [
        {
          "output_type": "execute_result",
          "data": {
            "text/plain": [
              "(60000, 28, 28)"
            ]
          },
          "metadata": {},
          "execution_count": 86
        }
      ]
    },
    {
      "cell_type": "code",
      "source": [
        "test_img.shape"
      ],
      "metadata": {
        "colab": {
          "base_uri": "https://localhost:8080/"
        },
        "id": "lsafBaDXA1vB",
        "outputId": "e9bb5a51-3acc-4940-8e6c-81ba2ef4d341"
      },
      "execution_count": 87,
      "outputs": [
        {
          "output_type": "execute_result",
          "data": {
            "text/plain": [
              "(10000, 28, 28)"
            ]
          },
          "metadata": {},
          "execution_count": 87
        }
      ]
    },
    {
      "cell_type": "markdown",
      "source": [
        "train_img contains 6000 samples 28x28 pixels\n",
        "test_img contains 1000 samples 28x28 pixels"
      ],
      "metadata": {
        "id": "flxvO7sUA5F7"
      }
    },
    {
      "cell_type": "code",
      "source": [
        "# visualize one of the img which corresponds the image of 0\n",
        "plt.imshow(train_img[1])"
      ],
      "metadata": {
        "colab": {
          "base_uri": "https://localhost:8080/",
          "height": 282
        },
        "id": "p_zCkKOAA34u",
        "outputId": "abcba397-053c-4695-9bce-d3fa8f59230b"
      },
      "execution_count": 88,
      "outputs": [
        {
          "output_type": "execute_result",
          "data": {
            "text/plain": [
              "<matplotlib.image.AxesImage at 0x7fda781c6f90>"
            ]
          },
          "metadata": {},
          "execution_count": 88
        },
        {
          "output_type": "display_data",
          "data": {
            "text/plain": [
              "<Figure size 432x288 with 1 Axes>"
            ],
            "image/png": "[encoded data removed]"
          },
          "metadata": {
            "needs_background": "light"
          }
        }
      ]
    },
    {
      "cell_type": "code",
      "source": [
        "# flatten the data we have 28x28 img but we can reshape it 28*28=784 \n",
        "train_img = train_img.reshape(len(train_img), 28*28)\n",
        "test_img = test_img.reshape(len(test_img), 28*28)"
      ],
      "metadata": {
        "id": "DK5a0vs3BKq8"
      },
      "execution_count": 89,
      "outputs": []
    },
    {
      "cell_type": "code",
      "source": [
        "# scale the data \n",
        "train_img = train_img/255\n",
        "test_img = test_img/255"
      ],
      "metadata": {
        "id": "C_DzKG9cBu7n"
      },
      "execution_count": 90,
      "outputs": []
    },
    {
      "cell_type": "code",
      "source": [
        "# convert labels to catergorical \n",
        "\n",
        "from tensorflow.keras.utils import to_categorical\n",
        "\n",
        "train_label = to_categorical(train_label)\n",
        "test_label = to_categorical(test_label)"
      ],
      "metadata": {
        "id": "KAgY26iYISqO"
      },
      "execution_count": 92,
      "outputs": []
    },
    {
      "cell_type": "code",
      "source": [
        "# now generate our first neural network \n",
        "model = keras.Sequential()\n",
        "model.add(keras.layers.Dense(32, activation='relu', input_shape=(784, ))), # to break the linearity we used relu\n",
        "model.add(keras.layers.Dense(10, activation='sigmoid'))"
      ],
      "metadata": {
        "id": "VSKt15w4CNkM"
      },
      "execution_count": 93,
      "outputs": []
    },
    {
      "cell_type": "code",
      "source": [
        "# let's choose the optimizer and the loss function\n",
        "model.compile(\n",
        "    optimizer='rmsprop', # rmsprop is similar with gradient descent with momentum\n",
        "    loss='categorical_crossentropy',\n",
        "    metrics=['accuracy']\n",
        ")"
      ],
      "metadata": {
        "id": "qkTU97B_ERxO"
      },
      "execution_count": 94,
      "outputs": []
    },
    {
      "cell_type": "code",
      "source": [
        "model.fit(train_img, train_label, epochs=8)"
      ],
      "metadata": {
        "colab": {
          "base_uri": "https://localhost:8080/"
        },
        "id": "PQub9C45FDIS",
        "outputId": "a22f0b19-bebb-42b1-9029-fd386eba0e4e"
      },
      "execution_count": 95,
      "outputs": [
        {
          "output_type": "stream",
          "name": "stdout",
          "text": [
            "Epoch 1/8\n",
            "1875/1875 [==============================] - 4s 2ms/step - loss: 0.3715 - accuracy: 0.8964\n",
            "Epoch 2/8\n",
            "1875/1875 [==============================] - 3s 2ms/step - loss: 0.2000 - accuracy: 0.9415\n",
            "Epoch 3/8\n",
            "1875/1875 [==============================] - 3s 2ms/step - loss: 0.1626 - accuracy: 0.9522\n",
            "Epoch 4/8\n",
            "1875/1875 [==============================] - 3s 2ms/step - loss: 0.1411 - accuracy: 0.9594\n",
            "Epoch 5/8\n",
            "1875/1875 [==============================] - 3s 2ms/step - loss: 0.1273 - accuracy: 0.9635\n",
            "Epoch 6/8\n",
            "1875/1875 [==============================] - 3s 2ms/step - loss: 0.1167 - accuracy: 0.9665\n",
            "Epoch 7/8\n",
            "1875/1875 [==============================] - 3s 2ms/step - loss: 0.1079 - accuracy: 0.9692\n",
            "Epoch 8/8\n",
            "1875/1875 [==============================] - 3s 2ms/step - loss: 0.1031 - accuracy: 0.9704\n"
          ]
        },
        {
          "output_type": "execute_result",
          "data": {
            "text/plain": [
              "<keras.callbacks.History at 0x7fda7abca9d0>"
            ]
          },
          "metadata": {},
          "execution_count": 95
        }
      ]
    },
    {
      "cell_type": "code",
      "source": [
        "# evaluate the test accuracy and the test loss\n",
        "test_loss, test_acc = model.evaluate(test_img, test_label)\n",
        "print(\"The test accuracy: \", test_acc)\n",
        "print(\"\\nThe test loss: \", test_loss)"
      ],
      "metadata": {
        "colab": {
          "base_uri": "https://localhost:8080/"
        },
        "id": "jgBV54j6FRBr",
        "outputId": "3ea44a5b-1f72-4c6a-800a-753116c58b02"
      },
      "execution_count": 96,
      "outputs": [
        {
          "output_type": "stream",
          "name": "stdout",
          "text": [
            "313/313 [==============================] - 1s 2ms/step - loss: 0.1416 - accuracy: 0.9627\n",
            "The test accuracy:  0.9627000093460083\n",
            "\n",
            "The test loss:  0.14163252711296082\n"
          ]
        }
      ]
    },
    {
      "cell_type": "markdown",
      "source": [
        "It was very joyful project to me. I enjoyed a lot when I was playing around the parameters such as batch, and epochs. Also we got high accuracy rate for both test and train set. At first glance neural networks seems easier but there are many parameters we have to pay attention. On the next projects I'll focus \"how to optimize these parameters and metrics , is there a pratic way to that\". "
      ],
      "metadata": {
        "id": "wx_S1xywLJQZ"
      }
    }
  ]
}